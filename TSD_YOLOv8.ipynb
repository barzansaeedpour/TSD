{
  "nbformat": 4,
  "nbformat_minor": 0,
  "metadata": {
    "colab": {
      "provenance": [],
      "gpuType": "T4",
      "private_outputs": true
    },
    "kernelspec": {
      "name": "python3",
      "display_name": "Python 3"
    },
    "language_info": {
      "name": "python"
    },
    "accelerator": "GPU"
  },
  "cells": [
    {
      "cell_type": "markdown",
      "source": [
        "# To check the gpu device"
      ],
      "metadata": {
        "id": "hf-MGtNqYzEp"
      }
    },
    {
      "cell_type": "code",
      "execution_count": null,
      "metadata": {
        "id": "ZiRgsagZykyk"
      },
      "outputs": [],
      "source": [
        "!nvidia-smi"
      ]
    },
    {
      "cell_type": "markdown",
      "source": [
        "## install YOLOv8"
      ],
      "metadata": {
        "id": "c2ebXTSLZrJ7"
      }
    },
    {
      "cell_type": "code",
      "source": [
        "\n",
        "!pip install ultralytics"
      ],
      "metadata": {
        "id": "seh0wOtHY8Ph"
      },
      "execution_count": null,
      "outputs": []
    },
    {
      "cell_type": "markdown",
      "source": [
        "#Setting up YOLOv8"
      ],
      "metadata": {
        "id": "i1mEhEopZxTk"
      }
    },
    {
      "cell_type": "code",
      "source": [
        "from ultralytics import YOLO\n",
        "import os\n",
        "from IPython.display import display, Image\n",
        "from IPython import display\n",
        "display.clear_output()\n",
        "!yolo checks"
      ],
      "metadata": {
        "id": "JCkiB1UpZlYO"
      },
      "execution_count": null,
      "outputs": []
    },
    {
      "cell_type": "markdown",
      "source": [
        "# Download the dataset"
      ],
      "metadata": {
        "id": "BEq1l9upOS65"
      }
    },
    {
      "cell_type": "code",
      "source": [
        "import os\n",
        "# You can use my dummy account =)\n",
        "os.environ['KAGGLE_USERNAME'] = \"Your_Username\"\n",
        "os.environ['KAGGLE_KEY'] = \"Your_KEY\"\n"
      ],
      "metadata": {
        "id": "nuREwPntPlVK"
      },
      "execution_count": null,
      "outputs": []
    },
    {
      "cell_type": "code",
      "source": [
        "!kaggle datasets download -d barzansaeedpour/traffic-sign-detection"
      ],
      "metadata": {
        "id": "NRti4bEgOXzZ"
      },
      "execution_count": null,
      "outputs": []
    },
    {
      "cell_type": "code",
      "source": [
        "!unzip -o $(ls -hat | grep -m 1 \".zip\")"
      ],
      "metadata": {
        "id": "9fNo3ZujOaNh"
      },
      "execution_count": null,
      "outputs": []
    },
    {
      "cell_type": "markdown",
      "source": [
        "# Train YOLOv8 Model on Custom Dataset"
      ],
      "metadata": {
        "id": "h3QUbf-Ka-t3"
      }
    },
    {
      "cell_type": "markdown",
      "source": [
        "Notice that you need to replace the following in data_custom.yaml file of the dataset:\n"
      ],
      "metadata": {
        "id": "1tpcdtb4OJeJ"
      }
    },
    {
      "cell_type": "markdown",
      "source": [
        "train: /content/train/images\n",
        "val: /content/val/images\n",
        "\n",
        "nc: 35\n",
        "\n",
        "names: [ \"avalin-pich-be-chap\",\"avalin-pich-be-rast\",\"dast-andaz\",\"dor-bargardan\",\"dor-zadan-mamnoe\",\"dorbine-sabte-takhalofat\",\"faghat-obor-az-chap-mojaz\",\"faghat-obor-az-rast-mojaz\",\"gardesh-be-rast-mamnoe\",\"hadeaksar-sorat-mojaz-100\",\"hadeaksar-sorat-mojaz-110\",\"hadeaksar-sorat-mojaz-40\",\"hadeaksar-sorat-mojaz-50\",\"hadeaksar-sorat-mojaz-60\",\"hadeaksar-sorat-mojaz-80\",\"hadeaksar-sorat-mojaz-85\",\"hadeaksar-sorat-mojaz-95\",\"hedayat-be-chap\",\"hedayat-be-rast\",\"istadan-mamnoe\",\"khatar\",\"khatare-rizeshe-sang\",\"obor-az-har-do-samt-mojaz\",\"obour-haywanate-ahli\",\"parking\",\"pich-be-chap\",\"pich-be-rast\",\"rayate-haghe-taghadom\",\"sebghat-azad\",\"sebghat-mamnoe\",\"taghatoe\",\"voroud-be-rahe-asli-az-chap\",\"voroud-be-rahe-asli-az-rast\",\"voroud-be-rahe-asli-az-rast2\",\"voroud-mamenoe\"]"
      ],
      "metadata": {
        "id": "FhFHZgXtUBtr"
      }
    },
    {
      "cell_type": "code",
      "source": [
        "!yolo task=detect mode=train model=yolov8m.pt data=/content/data_custom.yaml epochs=100 imgsz=300 batch=2"
      ],
      "metadata": {
        "id": "n7uYMr4TeDyS"
      },
      "execution_count": null,
      "outputs": []
    },
    {
      "cell_type": "code",
      "source": [
        "Image(filename=f'/content/runs/detect/train/confusion_matrix.png', width= 600)"
      ],
      "metadata": {
        "id": "PqdhxYayfGqn"
      },
      "execution_count": null,
      "outputs": []
    },
    {
      "cell_type": "code",
      "source": [
        "!yolo task=detect mode=val model=/content/runs/detect/train/weights/best.pt data=/content/data_custom.yaml"
      ],
      "metadata": {
        "id": "d7Lsw_ingHnm"
      },
      "execution_count": null,
      "outputs": []
    },
    {
      "cell_type": "code",
      "source": [
        "!yolo task=detect mode=predict model=/content/runs/detect/train/weights/best.pt save=True conf=0.2 source=val/images/"
      ],
      "metadata": {
        "id": "7-zHJkNkglPt"
      },
      "execution_count": null,
      "outputs": []
    },
    {
      "cell_type": "code",
      "source": [
        "import glob\n",
        "from IPython.display import Image, display\n",
        "\n",
        "for image_path in glob.glob(f'/content/runs/detect/predict/*.jpg'):\n",
        "    display(Image(filename=image_path, height=300))\n",
        "    print('\\n')"
      ],
      "metadata": {
        "id": "G6VQ8tu9hBHJ"
      },
      "execution_count": null,
      "outputs": []
    },
    {
      "cell_type": "markdown",
      "source": [],
      "metadata": {
        "id": "Ly0j619xV77r"
      }
    },
    {
      "cell_type": "markdown",
      "source": [
        "# Now you can download the trained model in the following directory and use it:\n",
        "\n",
        "/runs/detect/train/weights/best.pt"
      ],
      "metadata": {
        "id": "jq4jxqrfWHyz"
      }
    }
  ]
}